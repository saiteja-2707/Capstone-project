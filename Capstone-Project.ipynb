{
 "cells": [
  {
   "cell_type": "markdown",
   "id": "a2df45d2",
   "metadata": {},
   "source": [
    "# Understanding the Problem Statement"
   ]
  },
  {
   "cell_type": "markdown",
   "id": "5e3c8791",
   "metadata": {},
   "source": [
    "In this project, you will have to put yourself in the shoes of an HR analytics expert and by leveraging the data provided, you are supposed to identify \"how salary is varying with respect to other considerable factors\".\n",
    "\n",
    "The dataset should be divided into test and train and you would have to use the training data to build the model and thereby apply it to test data to measure the performance and robustness of the model."
   ]
  },
  {
   "cell_type": "raw",
   "id": "c927f2db",
   "metadata": {},
   "source": [
    "Steps to be performed for successful completion of capstone project:\n",
    "\n",
    "-Understand the data set - Feature description provided below.\n",
    "-Check the number of variables that are normally distributed & explain\n",
    "-Find out the correlation between variables using spearman rank correlation & explain\n",
    "-Examine the relationship between categorical variables and the dependent variable & explain\n",
    "-Clean and pre-process the data with other operations required, like, missing values, handling outliers, etc. as and when necessary & explain\n",
    "-Apply ML algorithm to the pre-processed columns and find out, which of these algorithms is best suitable for the same & explain\n",
    "-Briefly write your inference for every step, justifying the logic for the same."
   ]
  },
  {
   "cell_type": "markdown",
   "id": "639f34f9",
   "metadata": {},
   "source": [
    "# Feature Description"
   ]
  },
  {
   "cell_type": "raw",
   "id": "99141917",
   "metadata": {},
   "source": [
    "1)Gender - talks of the gender - Male or female\n",
    "2)Business - if the person has a business or no\n",
    "3)Age - age of the person\n",
    "4)Salary - CTC of the employee\n",
    "5)Dependants - number of people dependant on the person\n",
    "6)Months - duration of the person employed with the company\n",
    "7)Calls - if the person has authority to make calls or not\n",
    "8)Type - salary settlement type\n",
    "9)Billing - Subscribed to billing plans or no\n",
    "10)Unit sales - unit sale made by the person\n",
    "11)Total sales - total sales made by the person\n",
    "12)Rating - If he has been given a rating by a superior or no\n",
    "13)Bonus - amount received by a person as bonus for sales\n",
    "14)Base pay - Base pay of the employee\n",
    "15)Unit price - The Unit price of a sale\n",
    "16)Volume - volume allotted to a person\n",
    "17)Opening balance - The opening balance of an employee\n",
    "18)Low - lowest balance allotted to a person.\n",
    "19)Closing Balance- The closing balance of an employee\n",
    "20)Education- Educational background of an employee"
   ]
  },
  {
   "cell_type": "code",
   "execution_count": 1,
   "id": "01441adb",
   "metadata": {},
   "outputs": [],
   "source": [
    "# importing the required libraries\n",
    "\n",
    "import pandas as pd\n",
    "import numpy as np\n",
    "import matplotlib.pyplot as plt\n",
    "import seaborn as sns\n"
   ]
  },
  {
   "cell_type": "code",
   "execution_count": 2,
   "id": "fab482ba",
   "metadata": {},
   "outputs": [
    {
     "data": {
      "text/html": [
       "<div>\n",
       "<style scoped>\n",
       "    .dataframe tbody tr th:only-of-type {\n",
       "        vertical-align: middle;\n",
       "    }\n",
       "\n",
       "    .dataframe tbody tr th {\n",
       "        vertical-align: top;\n",
       "    }\n",
       "\n",
       "    .dataframe thead th {\n",
       "        text-align: right;\n",
       "    }\n",
       "</style>\n",
       "<table border=\"1\" class=\"dataframe\">\n",
       "  <thead>\n",
       "    <tr style=\"text-align: right;\">\n",
       "      <th></th>\n",
       "      <th>Gender</th>\n",
       "      <th>Business</th>\n",
       "      <th>Dependancies</th>\n",
       "      <th>Calls</th>\n",
       "      <th>Type</th>\n",
       "      <th>Billing</th>\n",
       "      <th>Rating</th>\n",
       "      <th>Age</th>\n",
       "      <th>Salary</th>\n",
       "      <th>Base_pay</th>\n",
       "      <th>Bonus</th>\n",
       "      <th>Unit_Price</th>\n",
       "      <th>Volume</th>\n",
       "      <th>openingbalance</th>\n",
       "      <th>closingbalance</th>\n",
       "      <th>low</th>\n",
       "      <th>Unit_Sales</th>\n",
       "      <th>Total_Sales</th>\n",
       "      <th>Months</th>\n",
       "      <th>Education</th>\n",
       "    </tr>\n",
       "  </thead>\n",
       "  <tbody>\n",
       "    <tr>\n",
       "      <th>0</th>\n",
       "      <td>Female</td>\n",
       "      <td>0</td>\n",
       "      <td>No</td>\n",
       "      <td>Yes</td>\n",
       "      <td>Month-to-month</td>\n",
       "      <td>No</td>\n",
       "      <td>Yes</td>\n",
       "      <td>18</td>\n",
       "      <td>5089.00</td>\n",
       "      <td>2035.600</td>\n",
       "      <td>254.4500</td>\n",
       "      <td>3.77</td>\n",
       "      <td>21226600</td>\n",
       "      <td>3.75</td>\n",
       "      <td>3.76</td>\n",
       "      <td>3.65</td>\n",
       "      <td>18.25</td>\n",
       "      <td>18.8</td>\n",
       "      <td>0</td>\n",
       "      <td>High School or less</td>\n",
       "    </tr>\n",
       "    <tr>\n",
       "      <th>1</th>\n",
       "      <td>Female</td>\n",
       "      <td>0</td>\n",
       "      <td>No</td>\n",
       "      <td>Yes</td>\n",
       "      <td>Month-to-month</td>\n",
       "      <td>No</td>\n",
       "      <td>Yes</td>\n",
       "      <td>19</td>\n",
       "      <td>5698.12</td>\n",
       "      <td>2279.248</td>\n",
       "      <td>284.9060</td>\n",
       "      <td>3.74</td>\n",
       "      <td>10462800</td>\n",
       "      <td>3.85</td>\n",
       "      <td>3.68</td>\n",
       "      <td>3.65</td>\n",
       "      <td>18.40</td>\n",
       "      <td>18.85</td>\n",
       "      <td>0</td>\n",
       "      <td>High School or less</td>\n",
       "    </tr>\n",
       "    <tr>\n",
       "      <th>2</th>\n",
       "      <td>Male</td>\n",
       "      <td>0</td>\n",
       "      <td>No</td>\n",
       "      <td>Yes</td>\n",
       "      <td>Month-to-month</td>\n",
       "      <td>Yes</td>\n",
       "      <td>No</td>\n",
       "      <td>22</td>\n",
       "      <td>5896.65</td>\n",
       "      <td>2358.660</td>\n",
       "      <td>294.8325</td>\n",
       "      <td>3.89</td>\n",
       "      <td>18761000</td>\n",
       "      <td>4.23</td>\n",
       "      <td>4.29</td>\n",
       "      <td>3.72</td>\n",
       "      <td>18.70</td>\n",
       "      <td>18.9</td>\n",
       "      <td>0</td>\n",
       "      <td>High School or less</td>\n",
       "    </tr>\n",
       "    <tr>\n",
       "      <th>3</th>\n",
       "      <td>Female</td>\n",
       "      <td>1</td>\n",
       "      <td>No</td>\n",
       "      <td>Yes</td>\n",
       "      <td>Month-to-month</td>\n",
       "      <td>Yes</td>\n",
       "      <td>Yes</td>\n",
       "      <td>21</td>\n",
       "      <td>6125.12</td>\n",
       "      <td>2450.048</td>\n",
       "      <td>306.2560</td>\n",
       "      <td>4.35</td>\n",
       "      <td>66130600</td>\n",
       "      <td>4.26</td>\n",
       "      <td>4.31</td>\n",
       "      <td>3.83</td>\n",
       "      <td>18.75</td>\n",
       "      <td>19</td>\n",
       "      <td>0</td>\n",
       "      <td>High School or less</td>\n",
       "    </tr>\n",
       "    <tr>\n",
       "      <th>4</th>\n",
       "      <td>Male</td>\n",
       "      <td>0</td>\n",
       "      <td>No</td>\n",
       "      <td>Yes</td>\n",
       "      <td>Month-to-month</td>\n",
       "      <td>Yes</td>\n",
       "      <td>Yes</td>\n",
       "      <td>23</td>\n",
       "      <td>6245.00</td>\n",
       "      <td>2498.000</td>\n",
       "      <td>312.2500</td>\n",
       "      <td>4.34</td>\n",
       "      <td>26868200</td>\n",
       "      <td>4.79</td>\n",
       "      <td>4.41</td>\n",
       "      <td>4.08</td>\n",
       "      <td>18.80</td>\n",
       "      <td>19.05</td>\n",
       "      <td>1</td>\n",
       "      <td>High School or less</td>\n",
       "    </tr>\n",
       "  </tbody>\n",
       "</table>\n",
       "</div>"
      ],
      "text/plain": [
       "   Gender  Business Dependancies Calls            Type Billing Rating  Age  \\\n",
       "0  Female         0           No   Yes  Month-to-month      No    Yes   18   \n",
       "1  Female         0           No   Yes  Month-to-month      No    Yes   19   \n",
       "2    Male         0           No   Yes  Month-to-month     Yes     No   22   \n",
       "3  Female         1           No   Yes  Month-to-month     Yes    Yes   21   \n",
       "4    Male         0           No   Yes  Month-to-month     Yes    Yes   23   \n",
       "\n",
       "    Salary  Base_pay     Bonus  Unit_Price    Volume  openingbalance  \\\n",
       "0  5089.00  2035.600  254.4500        3.77  21226600            3.75   \n",
       "1  5698.12  2279.248  284.9060        3.74  10462800            3.85   \n",
       "2  5896.65  2358.660  294.8325        3.89  18761000            4.23   \n",
       "3  6125.12  2450.048  306.2560        4.35  66130600            4.26   \n",
       "4  6245.00  2498.000  312.2500        4.34  26868200            4.79   \n",
       "\n",
       "   closingbalance   low  Unit_Sales Total_Sales  Months            Education  \n",
       "0            3.76  3.65       18.25        18.8       0  High School or less  \n",
       "1            3.68  3.65       18.40       18.85       0  High School or less  \n",
       "2            4.29  3.72       18.70        18.9       0  High School or less  \n",
       "3            4.31  3.83       18.75          19       0  High School or less  \n",
       "4            4.41  4.08       18.80       19.05       1  High School or less  "
      ]
     },
     "execution_count": 2,
     "metadata": {},
     "output_type": "execute_result"
    }
   ],
   "source": [
    "# loading the dataset and storing it into df\n",
    "\n",
    "df = pd.read_csv('New_data_Set.csv')\n",
    "df.head()"
   ]
  },
  {
   "cell_type": "code",
   "execution_count": 3,
   "id": "242f3d46",
   "metadata": {},
   "outputs": [
    {
     "data": {
      "text/plain": [
       "(5000, 20)"
      ]
     },
     "execution_count": 3,
     "metadata": {},
     "output_type": "execute_result"
    }
   ],
   "source": [
    "df.shape # shape of the dataset"
   ]
  },
  {
   "cell_type": "code",
   "execution_count": 4,
   "id": "7502f616",
   "metadata": {},
   "outputs": [
    {
     "name": "stdout",
     "output_type": "stream",
     "text": [
      "<class 'pandas.core.frame.DataFrame'>\n",
      "RangeIndex: 5000 entries, 0 to 4999\n",
      "Data columns (total 20 columns):\n",
      " #   Column          Non-Null Count  Dtype  \n",
      "---  ------          --------------  -----  \n",
      " 0   Gender          5000 non-null   object \n",
      " 1   Business        5000 non-null   int64  \n",
      " 2   Dependancies    5000 non-null   object \n",
      " 3   Calls           5000 non-null   object \n",
      " 4   Type            5000 non-null   object \n",
      " 5   Billing         5000 non-null   object \n",
      " 6   Rating          5000 non-null   object \n",
      " 7   Age             5000 non-null   int64  \n",
      " 8   Salary          5000 non-null   float64\n",
      " 9   Base_pay        4977 non-null   float64\n",
      " 10  Bonus           5000 non-null   float64\n",
      " 11  Unit_Price      5000 non-null   float64\n",
      " 12  Volume          5000 non-null   int64  \n",
      " 13  openingbalance  3524 non-null   float64\n",
      " 14  closingbalance  5000 non-null   float64\n",
      " 15  low             5000 non-null   float64\n",
      " 16  Unit_Sales      5000 non-null   float64\n",
      " 17  Total_Sales     4992 non-null   object \n",
      " 18  Months          5000 non-null   int64  \n",
      " 19  Education       5000 non-null   object \n",
      "dtypes: float64(8), int64(4), object(8)\n",
      "memory usage: 781.4+ KB\n"
     ]
    }
   ],
   "source": [
    "df.info() "
   ]
  },
  {
   "cell_type": "markdown",
   "id": "f4ac602e",
   "metadata": {},
   "source": [
    "from the above information we can see that there are 20 columns which includes (float64(8), int64(4), object(8))"
   ]
  },
  {
   "cell_type": "code",
   "execution_count": 5,
   "id": "60f4b474",
   "metadata": {},
   "outputs": [
    {
     "data": {
      "text/html": [
       "<div>\n",
       "<style scoped>\n",
       "    .dataframe tbody tr th:only-of-type {\n",
       "        vertical-align: middle;\n",
       "    }\n",
       "\n",
       "    .dataframe tbody tr th {\n",
       "        vertical-align: top;\n",
       "    }\n",
       "\n",
       "    .dataframe thead th {\n",
       "        text-align: right;\n",
       "    }\n",
       "</style>\n",
       "<table border=\"1\" class=\"dataframe\">\n",
       "  <thead>\n",
       "    <tr style=\"text-align: right;\">\n",
       "      <th></th>\n",
       "      <th>Business</th>\n",
       "      <th>Age</th>\n",
       "      <th>Salary</th>\n",
       "      <th>Base_pay</th>\n",
       "      <th>Bonus</th>\n",
       "      <th>Unit_Price</th>\n",
       "      <th>Volume</th>\n",
       "      <th>openingbalance</th>\n",
       "      <th>closingbalance</th>\n",
       "      <th>low</th>\n",
       "      <th>Unit_Sales</th>\n",
       "      <th>Months</th>\n",
       "    </tr>\n",
       "  </thead>\n",
       "  <tbody>\n",
       "    <tr>\n",
       "      <th>count</th>\n",
       "      <td>5000.000000</td>\n",
       "      <td>5000.000000</td>\n",
       "      <td>5000.000000</td>\n",
       "      <td>4977.000000</td>\n",
       "      <td>5000.000000</td>\n",
       "      <td>5000.000000</td>\n",
       "      <td>5.000000e+03</td>\n",
       "      <td>3524.000000</td>\n",
       "      <td>5000.000000</td>\n",
       "      <td>5000.000000</td>\n",
       "      <td>5000.00000</td>\n",
       "      <td>5000.00000</td>\n",
       "    </tr>\n",
       "    <tr>\n",
       "      <th>mean</th>\n",
       "      <td>0.160000</td>\n",
       "      <td>51.865000</td>\n",
       "      <td>99821.928553</td>\n",
       "      <td>40046.187707</td>\n",
       "      <td>4991.096428</td>\n",
       "      <td>51.258522</td>\n",
       "      <td>6.761260e+06</td>\n",
       "      <td>43.922020</td>\n",
       "      <td>43.577828</td>\n",
       "      <td>43.034129</td>\n",
       "      <td>64.84151</td>\n",
       "      <td>32.18480</td>\n",
       "    </tr>\n",
       "    <tr>\n",
       "      <th>std</th>\n",
       "      <td>0.366643</td>\n",
       "      <td>8.560691</td>\n",
       "      <td>25376.961744</td>\n",
       "      <td>10135.686075</td>\n",
       "      <td>1268.848087</td>\n",
       "      <td>52.244022</td>\n",
       "      <td>1.620476e+07</td>\n",
       "      <td>38.361497</td>\n",
       "      <td>37.148512</td>\n",
       "      <td>36.760641</td>\n",
       "      <td>30.13968</td>\n",
       "      <td>24.63673</td>\n",
       "    </tr>\n",
       "    <tr>\n",
       "      <th>min</th>\n",
       "      <td>0.000000</td>\n",
       "      <td>18.000000</td>\n",
       "      <td>5089.000000</td>\n",
       "      <td>2035.600000</td>\n",
       "      <td>254.450000</td>\n",
       "      <td>1.440000</td>\n",
       "      <td>0.000000e+00</td>\n",
       "      <td>3.680000</td>\n",
       "      <td>3.680000</td>\n",
       "      <td>3.650000</td>\n",
       "      <td>18.25000</td>\n",
       "      <td>0.00000</td>\n",
       "    </tr>\n",
       "    <tr>\n",
       "      <th>25%</th>\n",
       "      <td>0.000000</td>\n",
       "      <td>47.000000</td>\n",
       "      <td>83890.338980</td>\n",
       "      <td>33720.552420</td>\n",
       "      <td>4194.516950</td>\n",
       "      <td>25.727500</td>\n",
       "      <td>1.283850e+06</td>\n",
       "      <td>22.098750</td>\n",
       "      <td>21.990000</td>\n",
       "      <td>21.718750</td>\n",
       "      <td>35.50000</td>\n",
       "      <td>8.00000</td>\n",
       "    </tr>\n",
       "    <tr>\n",
       "      <th>50%</th>\n",
       "      <td>0.000000</td>\n",
       "      <td>52.000000</td>\n",
       "      <td>100579.378500</td>\n",
       "      <td>40282.016040</td>\n",
       "      <td>5028.968925</td>\n",
       "      <td>39.205000</td>\n",
       "      <td>2.870600e+06</td>\n",
       "      <td>33.119999</td>\n",
       "      <td>33.340000</td>\n",
       "      <td>32.880001</td>\n",
       "      <td>70.50000</td>\n",
       "      <td>28.00000</td>\n",
       "    </tr>\n",
       "    <tr>\n",
       "      <th>75%</th>\n",
       "      <td>0.000000</td>\n",
       "      <td>57.000000</td>\n",
       "      <td>116912.092475</td>\n",
       "      <td>46792.232410</td>\n",
       "      <td>5845.604624</td>\n",
       "      <td>58.715000</td>\n",
       "      <td>6.247100e+06</td>\n",
       "      <td>51.421839</td>\n",
       "      <td>51.117500</td>\n",
       "      <td>50.415000</td>\n",
       "      <td>89.95000</td>\n",
       "      <td>55.00000</td>\n",
       "    </tr>\n",
       "    <tr>\n",
       "      <th>max</th>\n",
       "      <td>1.000000</td>\n",
       "      <td>88.000000</td>\n",
       "      <td>199970.740000</td>\n",
       "      <td>79988.296000</td>\n",
       "      <td>9998.537000</td>\n",
       "      <td>629.511067</td>\n",
       "      <td>3.208684e+08</td>\n",
       "      <td>313.903904</td>\n",
       "      <td>313.688694</td>\n",
       "      <td>312.432438</td>\n",
       "      <td>118.75000</td>\n",
       "      <td>72.00000</td>\n",
       "    </tr>\n",
       "  </tbody>\n",
       "</table>\n",
       "</div>"
      ],
      "text/plain": [
       "          Business          Age         Salary      Base_pay        Bonus  \\\n",
       "count  5000.000000  5000.000000    5000.000000   4977.000000  5000.000000   \n",
       "mean      0.160000    51.865000   99821.928553  40046.187707  4991.096428   \n",
       "std       0.366643     8.560691   25376.961744  10135.686075  1268.848087   \n",
       "min       0.000000    18.000000    5089.000000   2035.600000   254.450000   \n",
       "25%       0.000000    47.000000   83890.338980  33720.552420  4194.516950   \n",
       "50%       0.000000    52.000000  100579.378500  40282.016040  5028.968925   \n",
       "75%       0.000000    57.000000  116912.092475  46792.232410  5845.604624   \n",
       "max       1.000000    88.000000  199970.740000  79988.296000  9998.537000   \n",
       "\n",
       "        Unit_Price        Volume  openingbalance  closingbalance          low  \\\n",
       "count  5000.000000  5.000000e+03     3524.000000     5000.000000  5000.000000   \n",
       "mean     51.258522  6.761260e+06       43.922020       43.577828    43.034129   \n",
       "std      52.244022  1.620476e+07       38.361497       37.148512    36.760641   \n",
       "min       1.440000  0.000000e+00        3.680000        3.680000     3.650000   \n",
       "25%      25.727500  1.283850e+06       22.098750       21.990000    21.718750   \n",
       "50%      39.205000  2.870600e+06       33.119999       33.340000    32.880001   \n",
       "75%      58.715000  6.247100e+06       51.421839       51.117500    50.415000   \n",
       "max     629.511067  3.208684e+08      313.903904      313.688694   312.432438   \n",
       "\n",
       "       Unit_Sales      Months  \n",
       "count  5000.00000  5000.00000  \n",
       "mean     64.84151    32.18480  \n",
       "std      30.13968    24.63673  \n",
       "min      18.25000     0.00000  \n",
       "25%      35.50000     8.00000  \n",
       "50%      70.50000    28.00000  \n",
       "75%      89.95000    55.00000  \n",
       "max     118.75000    72.00000  "
      ]
     },
     "execution_count": 5,
     "metadata": {},
     "output_type": "execute_result"
    }
   ],
   "source": [
    "df.describe() #brief description about the dataset,like:mean,min_value,max_value,......"
   ]
  },
  {
   "cell_type": "code",
   "execution_count": 6,
   "id": "9a92b88a",
   "metadata": {},
   "outputs": [],
   "source": [
    "# from the df.info it shows that 'Total_Sales' is object datatype we have convert it into required datatype.\n",
    "\n",
    "df['Total_Sales'] = pd.to_numeric(df['Total_Sales'],errors='coerce')"
   ]
  },
  {
   "cell_type": "code",
   "execution_count": 7,
   "id": "dccf714a",
   "metadata": {},
   "outputs": [
    {
     "data": {
      "text/plain": [
       "dtype('float64')"
      ]
     },
     "execution_count": 7,
     "metadata": {},
     "output_type": "execute_result"
    }
   ],
   "source": [
    "df['Total_Sales'].dtype #checking for datatype after converting."
   ]
  },
  {
   "cell_type": "code",
   "execution_count": 8,
   "id": "ca37ddea",
   "metadata": {},
   "outputs": [
    {
     "data": {
      "text/plain": [
       "Gender               0\n",
       "Business             0\n",
       "Dependancies         0\n",
       "Calls                0\n",
       "Type                 0\n",
       "Billing              0\n",
       "Rating               0\n",
       "Age                  0\n",
       "Salary               0\n",
       "Base_pay            23\n",
       "Bonus                0\n",
       "Unit_Price           0\n",
       "Volume               0\n",
       "openingbalance    1476\n",
       "closingbalance       0\n",
       "low                  0\n",
       "Unit_Sales           0\n",
       "Total_Sales         16\n",
       "Months               0\n",
       "Education            0\n",
       "dtype: int64"
      ]
     },
     "execution_count": 8,
     "metadata": {},
     "output_type": "execute_result"
    }
   ],
   "source": [
    "df.isnull().sum() # checking for the null values \n",
    "                       #df.isnull().sum()/len(df)*100 this code is for checking the % of null values"
   ]
  },
  {
   "cell_type": "code",
   "execution_count": 9,
   "id": "6344188c",
   "metadata": {},
   "outputs": [
    {
     "data": {
      "text/plain": [
       "['Business',\n",
       " 'Age',\n",
       " 'Salary',\n",
       " 'Base_pay',\n",
       " 'Bonus',\n",
       " 'Unit_Price',\n",
       " 'Volume',\n",
       " 'openingbalance',\n",
       " 'closingbalance',\n",
       " 'low',\n",
       " 'Unit_Sales',\n",
       " 'Total_Sales',\n",
       " 'Months']"
      ]
     },
     "execution_count": 9,
     "metadata": {},
     "output_type": "execute_result"
    }
   ],
   "source": [
    "# here we can the numerical features of dataset.\n",
    "\n",
    "num_features=[feature for feature in df.columns if df[feature].dtypes!='object']\n",
    "num_features"
   ]
  },
  {
   "cell_type": "code",
   "execution_count": 10,
   "id": "21d3b21e",
   "metadata": {},
   "outputs": [
    {
     "data": {
      "text/plain": [
       "['Gender', 'Dependancies', 'Calls', 'Type', 'Billing', 'Rating', 'Education']"
      ]
     },
     "execution_count": 10,
     "metadata": {},
     "output_type": "execute_result"
    }
   ],
   "source": [
    "# here we can see the categorical features of the dataset.\n",
    "\n",
    "cat_features=[feature for feature in df.columns if df[feature].dtypes=='object']\n",
    "cat_features"
   ]
  },
  {
   "cell_type": "code",
   "execution_count": 11,
   "id": "8f280361",
   "metadata": {},
   "outputs": [
    {
     "data": {
      "text/plain": [
       "Business          1.855409\n",
       "Age              -0.259971\n",
       "Salary           -0.396042\n",
       "Base_pay         -0.364195\n",
       "Bonus            -0.396042\n",
       "Unit_Price        5.989663\n",
       "Volume            8.709735\n",
       "openingbalance    3.312744\n",
       "closingbalance    3.226368\n",
       "low               3.233667\n",
       "Unit_Sales       -0.225447\n",
       "Total_Sales       0.971878\n",
       "Months            0.257274\n",
       "dtype: float64"
      ]
     },
     "execution_count": 11,
     "metadata": {},
     "output_type": "execute_result"
    }
   ],
   "source": [
    "# checking the skewness of the numerical columns of the dataset.\n",
    "#it shows that whether the feature is normally distributed or not.\n",
    "\n",
    "df.skew(skipna = True,axis=0) "
   ]
  },
  {
   "cell_type": "markdown",
   "id": "c220e34b",
   "metadata": {},
   "source": [
    "A skewness value of 0.000 in the output denotes a symmetrical distribution of values in row.\n",
    "\n",
    "A negative skewness value in the output(ex:-0.259971) indicates an asymmetry in the distribution and the tail is larger towards the left hand side of the distribution.\n",
    "\n",
    "A positive skewness value in the output(ex:5.989663) indicates an asymmetry in the distribution and the tail is larger towards the right hand side of the distribution.\n",
    "\n",
    "From the output it is clear that any of the column is not normally distributed."
   ]
  },
  {
   "cell_type": "code",
   "execution_count": 12,
   "id": "1152982d",
   "metadata": {},
   "outputs": [
    {
     "data": {
      "image/png": "[encoded data removed]",
      "text/plain": [
       "<Figure size 1080x720 with 16 Axes>"
      ]
     },
     "metadata": {
      "needs_background": "light"
     },
     "output_type": "display_data"
    }
   ],
   "source": [
    "#visualize above information by plotting the histogram plot,to check the normal distribution.\n",
    "\n",
    "df.hist(figsize=(15,10))\n",
    "plt.show()"
   ]
  },
  {
   "cell_type": "code",
   "execution_count": 13,
   "id": "58aeb0bb",
   "metadata": {},
   "outputs": [
    {
     "data": {
      "text/html": [
       "<div>\n",
       "<style scoped>\n",
       "    .dataframe tbody tr th:only-of-type {\n",
       "        vertical-align: middle;\n",
       "    }\n",
       "\n",
       "    .dataframe tbody tr th {\n",
       "        vertical-align: top;\n",
       "    }\n",
       "\n",
       "    .dataframe thead th {\n",
       "        text-align: right;\n",
       "    }\n",
       "</style>\n",
       "<table border=\"1\" class=\"dataframe\">\n",
       "  <thead>\n",
       "    <tr style=\"text-align: right;\">\n",
       "      <th></th>\n",
       "      <th>Business</th>\n",
       "      <th>Age</th>\n",
       "      <th>Salary</th>\n",
       "      <th>Base_pay</th>\n",
       "      <th>Bonus</th>\n",
       "      <th>Unit_Price</th>\n",
       "      <th>Volume</th>\n",
       "      <th>openingbalance</th>\n",
       "      <th>closingbalance</th>\n",
       "      <th>low</th>\n",
       "      <th>Unit_Sales</th>\n",
       "      <th>Total_Sales</th>\n",
       "      <th>Months</th>\n",
       "    </tr>\n",
       "  </thead>\n",
       "  <tbody>\n",
       "    <tr>\n",
       "      <th>Business</th>\n",
       "      <td>1.000000</td>\n",
       "      <td>-0.008435</td>\n",
       "      <td>-0.018403</td>\n",
       "      <td>-0.019292</td>\n",
       "      <td>-0.018403</td>\n",
       "      <td>-0.019480</td>\n",
       "      <td>-0.002192</td>\n",
       "      <td>0.001083</td>\n",
       "      <td>-0.007485</td>\n",
       "      <td>-0.018103</td>\n",
       "      <td>-0.018363</td>\n",
       "      <td>-0.019663</td>\n",
       "      <td>-0.012282</td>\n",
       "    </tr>\n",
       "    <tr>\n",
       "      <th>Age</th>\n",
       "      <td>-0.008435</td>\n",
       "      <td>1.000000</td>\n",
       "      <td>0.202282</td>\n",
       "      <td>0.193690</td>\n",
       "      <td>0.202282</td>\n",
       "      <td>0.128266</td>\n",
       "      <td>-0.039345</td>\n",
       "      <td>0.068410</td>\n",
       "      <td>0.440989</td>\n",
       "      <td>0.202040</td>\n",
       "      <td>0.202268</td>\n",
       "      <td>0.196744</td>\n",
       "      <td>0.222837</td>\n",
       "    </tr>\n",
       "    <tr>\n",
       "      <th>Salary</th>\n",
       "      <td>-0.018403</td>\n",
       "      <td>0.202282</td>\n",
       "      <td>1.000000</td>\n",
       "      <td>0.999976</td>\n",
       "      <td>1.000000</td>\n",
       "      <td>0.811713</td>\n",
       "      <td>-0.390488</td>\n",
       "      <td>0.297932</td>\n",
       "      <td>0.346498</td>\n",
       "      <td>0.999859</td>\n",
       "      <td>0.999997</td>\n",
       "      <td>1.000000</td>\n",
       "      <td>0.603796</td>\n",
       "    </tr>\n",
       "    <tr>\n",
       "      <th>Base_pay</th>\n",
       "      <td>-0.019292</td>\n",
       "      <td>0.193690</td>\n",
       "      <td>0.999976</td>\n",
       "      <td>1.000000</td>\n",
       "      <td>0.999976</td>\n",
       "      <td>0.811679</td>\n",
       "      <td>-0.390787</td>\n",
       "      <td>0.291481</td>\n",
       "      <td>0.339959</td>\n",
       "      <td>0.999832</td>\n",
       "      <td>0.999973</td>\n",
       "      <td>0.999975</td>\n",
       "      <td>0.599535</td>\n",
       "    </tr>\n",
       "    <tr>\n",
       "      <th>Bonus</th>\n",
       "      <td>-0.018403</td>\n",
       "      <td>0.202282</td>\n",
       "      <td>1.000000</td>\n",
       "      <td>0.999976</td>\n",
       "      <td>1.000000</td>\n",
       "      <td>0.811713</td>\n",
       "      <td>-0.390488</td>\n",
       "      <td>0.297932</td>\n",
       "      <td>0.346498</td>\n",
       "      <td>0.999859</td>\n",
       "      <td>0.999997</td>\n",
       "      <td>1.000000</td>\n",
       "      <td>0.603796</td>\n",
       "    </tr>\n",
       "    <tr>\n",
       "      <th>Unit_Price</th>\n",
       "      <td>-0.019480</td>\n",
       "      <td>0.128266</td>\n",
       "      <td>0.811713</td>\n",
       "      <td>0.811679</td>\n",
       "      <td>0.811713</td>\n",
       "      <td>1.000000</td>\n",
       "      <td>-0.324230</td>\n",
       "      <td>0.172338</td>\n",
       "      <td>0.263699</td>\n",
       "      <td>0.812412</td>\n",
       "      <td>0.811735</td>\n",
       "      <td>0.810661</td>\n",
       "      <td>0.550062</td>\n",
       "    </tr>\n",
       "    <tr>\n",
       "      <th>Volume</th>\n",
       "      <td>-0.002192</td>\n",
       "      <td>-0.039345</td>\n",
       "      <td>-0.390488</td>\n",
       "      <td>-0.390787</td>\n",
       "      <td>-0.390488</td>\n",
       "      <td>-0.324230</td>\n",
       "      <td>1.000000</td>\n",
       "      <td>-0.024988</td>\n",
       "      <td>-0.147108</td>\n",
       "      <td>-0.392209</td>\n",
       "      <td>-0.390505</td>\n",
       "      <td>-0.391428</td>\n",
       "      <td>-0.262077</td>\n",
       "    </tr>\n",
       "    <tr>\n",
       "      <th>openingbalance</th>\n",
       "      <td>0.001083</td>\n",
       "      <td>0.068410</td>\n",
       "      <td>0.297932</td>\n",
       "      <td>0.291481</td>\n",
       "      <td>0.297932</td>\n",
       "      <td>0.172338</td>\n",
       "      <td>-0.024988</td>\n",
       "      <td>1.000000</td>\n",
       "      <td>0.288672</td>\n",
       "      <td>0.297840</td>\n",
       "      <td>0.297938</td>\n",
       "      <td>0.297331</td>\n",
       "      <td>-0.003899</td>\n",
       "    </tr>\n",
       "    <tr>\n",
       "      <th>closingbalance</th>\n",
       "      <td>-0.007485</td>\n",
       "      <td>0.440989</td>\n",
       "      <td>0.346498</td>\n",
       "      <td>0.339959</td>\n",
       "      <td>0.346498</td>\n",
       "      <td>0.263699</td>\n",
       "      <td>-0.147108</td>\n",
       "      <td>0.288672</td>\n",
       "      <td>1.000000</td>\n",
       "      <td>0.346278</td>\n",
       "      <td>0.346485</td>\n",
       "      <td>0.342083</td>\n",
       "      <td>0.365927</td>\n",
       "    </tr>\n",
       "    <tr>\n",
       "      <th>low</th>\n",
       "      <td>-0.018103</td>\n",
       "      <td>0.202040</td>\n",
       "      <td>0.999859</td>\n",
       "      <td>0.999832</td>\n",
       "      <td>0.999859</td>\n",
       "      <td>0.812412</td>\n",
       "      <td>-0.392209</td>\n",
       "      <td>0.297840</td>\n",
       "      <td>0.346278</td>\n",
       "      <td>1.000000</td>\n",
       "      <td>0.999856</td>\n",
       "      <td>0.999858</td>\n",
       "      <td>0.603752</td>\n",
       "    </tr>\n",
       "    <tr>\n",
       "      <th>Unit_Sales</th>\n",
       "      <td>-0.018363</td>\n",
       "      <td>0.202268</td>\n",
       "      <td>0.999997</td>\n",
       "      <td>0.999973</td>\n",
       "      <td>0.999997</td>\n",
       "      <td>0.811735</td>\n",
       "      <td>-0.390505</td>\n",
       "      <td>0.297938</td>\n",
       "      <td>0.346485</td>\n",
       "      <td>0.999856</td>\n",
       "      <td>1.000000</td>\n",
       "      <td>0.999997</td>\n",
       "      <td>0.603779</td>\n",
       "    </tr>\n",
       "    <tr>\n",
       "      <th>Total_Sales</th>\n",
       "      <td>-0.019663</td>\n",
       "      <td>0.196744</td>\n",
       "      <td>1.000000</td>\n",
       "      <td>0.999975</td>\n",
       "      <td>1.000000</td>\n",
       "      <td>0.810661</td>\n",
       "      <td>-0.391428</td>\n",
       "      <td>0.297331</td>\n",
       "      <td>0.342083</td>\n",
       "      <td>0.999858</td>\n",
       "      <td>0.999997</td>\n",
       "      <td>1.000000</td>\n",
       "      <td>0.600839</td>\n",
       "    </tr>\n",
       "    <tr>\n",
       "      <th>Months</th>\n",
       "      <td>-0.012282</td>\n",
       "      <td>0.222837</td>\n",
       "      <td>0.603796</td>\n",
       "      <td>0.599535</td>\n",
       "      <td>0.603796</td>\n",
       "      <td>0.550062</td>\n",
       "      <td>-0.262077</td>\n",
       "      <td>-0.003899</td>\n",
       "      <td>0.365927</td>\n",
       "      <td>0.603752</td>\n",
       "      <td>0.603779</td>\n",
       "      <td>0.600839</td>\n",
       "      <td>1.000000</td>\n",
       "    </tr>\n",
       "  </tbody>\n",
       "</table>\n",
       "</div>"
      ],
      "text/plain": [
       "                Business       Age    Salary  Base_pay     Bonus  Unit_Price  \\\n",
       "Business        1.000000 -0.008435 -0.018403 -0.019292 -0.018403   -0.019480   \n",
       "Age            -0.008435  1.000000  0.202282  0.193690  0.202282    0.128266   \n",
       "Salary         -0.018403  0.202282  1.000000  0.999976  1.000000    0.811713   \n",
       "Base_pay       -0.019292  0.193690  0.999976  1.000000  0.999976    0.811679   \n",
       "Bonus          -0.018403  0.202282  1.000000  0.999976  1.000000    0.811713   \n",
       "Unit_Price     -0.019480  0.128266  0.811713  0.811679  0.811713    1.000000   \n",
       "Volume         -0.002192 -0.039345 -0.390488 -0.390787 -0.390488   -0.324230   \n",
       "openingbalance  0.001083  0.068410  0.297932  0.291481  0.297932    0.172338   \n",
       "closingbalance -0.007485  0.440989  0.346498  0.339959  0.346498    0.263699   \n",
       "low            -0.018103  0.202040  0.999859  0.999832  0.999859    0.812412   \n",
       "Unit_Sales     -0.018363  0.202268  0.999997  0.999973  0.999997    0.811735   \n",
       "Total_Sales    -0.019663  0.196744  1.000000  0.999975  1.000000    0.810661   \n",
       "Months         -0.012282  0.222837  0.603796  0.599535  0.603796    0.550062   \n",
       "\n",
       "                  Volume  openingbalance  closingbalance       low  \\\n",
       "Business       -0.002192        0.001083       -0.007485 -0.018103   \n",
       "Age            -0.039345        0.068410        0.440989  0.202040   \n",
       "Salary         -0.390488        0.297932        0.346498  0.999859   \n",
       "Base_pay       -0.390787        0.291481        0.339959  0.999832   \n",
       "Bonus          -0.390488        0.297932        0.346498  0.999859   \n",
       "Unit_Price     -0.324230        0.172338        0.263699  0.812412   \n",
       "Volume          1.000000       -0.024988       -0.147108 -0.392209   \n",
       "openingbalance -0.024988        1.000000        0.288672  0.297840   \n",
       "closingbalance -0.147108        0.288672        1.000000  0.346278   \n",
       "low            -0.392209        0.297840        0.346278  1.000000   \n",
       "Unit_Sales     -0.390505        0.297938        0.346485  0.999856   \n",
       "Total_Sales    -0.391428        0.297331        0.342083  0.999858   \n",
       "Months         -0.262077       -0.003899        0.365927  0.603752   \n",
       "\n",
       "                Unit_Sales  Total_Sales    Months  \n",
       "Business         -0.018363    -0.019663 -0.012282  \n",
       "Age               0.202268     0.196744  0.222837  \n",
       "Salary            0.999997     1.000000  0.603796  \n",
       "Base_pay          0.999973     0.999975  0.599535  \n",
       "Bonus             0.999997     1.000000  0.603796  \n",
       "Unit_Price        0.811735     0.810661  0.550062  \n",
       "Volume           -0.390505    -0.391428 -0.262077  \n",
       "openingbalance    0.297938     0.297331 -0.003899  \n",
       "closingbalance    0.346485     0.342083  0.365927  \n",
       "low               0.999856     0.999858  0.603752  \n",
       "Unit_Sales        1.000000     0.999997  0.603779  \n",
       "Total_Sales       0.999997     1.000000  0.600839  \n",
       "Months            0.603779     0.600839  1.000000  "
      ]
     },
     "execution_count": 13,
     "metadata": {},
     "output_type": "execute_result"
    }
   ],
   "source": [
    "#checking the correlation using spearman rank correlation.\n",
    "\n",
    "df.corr(method='spearman')"
   ]
  },
  {
   "cell_type": "markdown",
   "id": "b150e968",
   "metadata": {},
   "source": [
    "Spearman’s returns a value from -1 to 1, where: +1 = a perfect positive correlation between ranks -1 = a perfect negative correlation between ranks 0 = no correlation between ranks."
   ]
  },
  {
   "cell_type": "markdown",
   "id": "949c9857",
   "metadata": {},
   "source": [
    "# visualization"
   ]
  },
  {
   "cell_type": "markdown",
   "id": "9aac3333",
   "metadata": {},
   "source": [
    "Checking the relationship of categorical features. "
   ]
  },
  {
   "cell_type": "code",
   "execution_count": 14,
   "id": "3e504bf9",
   "metadata": {},
   "outputs": [
    {
     "name": "stderr",
     "output_type": "stream",
     "text": [
      "C:\\ProgramData\\Anaconda3\\lib\\site-packages\\seaborn\\_decorators.py:36: FutureWarning: Pass the following variable as a keyword arg: x. From version 0.12, the only valid positional argument will be `data`, and passing other arguments without an explicit keyword will result in an error or misinterpretation.\n",
      "  warnings.warn(\n"
     ]
    },
    {
     "data": {
      "text/plain": [
       "Male      2528\n",
       "Female    2472\n",
       "Name: Gender, dtype: int64"
      ]
     },
     "execution_count": 14,
     "metadata": {},
     "output_type": "execute_result"
    },
    {
     "data": {
      "image/png": "[encoded data removed]",
      "text/plain": [
       "<Figure size 432x288 with 1 Axes>"
      ]
     },
     "metadata": {},
     "output_type": "display_data"
    }
   ],
   "source": [
    "sns.set_style(\"darkgrid\")\n",
    "sns.countplot(df['Gender'])\n",
    "df['Gender'].value_counts()"
   ]
  },
  {
   "cell_type": "code",
   "execution_count": 15,
   "id": "c009926e",
   "metadata": {},
   "outputs": [
    {
     "data": {
      "text/plain": [
       "Gender\n",
       "Female     99261.893521\n",
       "Male      100369.557745\n",
       "Name: Salary, dtype: float64"
      ]
     },
     "execution_count": 15,
     "metadata": {},
     "output_type": "execute_result"
    }
   ],
   "source": [
    "#checking which gender has most average salary.\n",
    "#by using groupby(),mean() indicates the avg \n",
    "\n",
    "gender= df.groupby('Gender')['Salary'].mean()\n",
    "gender"
   ]
  },
  {
   "cell_type": "markdown",
   "id": "af318fc8",
   "metadata": {},
   "source": [
    "from the output:male has highest avg salary compare to female"
   ]
  },
  {
   "cell_type": "code",
   "execution_count": 16,
   "id": "f7acb8aa",
   "metadata": {},
   "outputs": [
    {
     "data": {
      "text/plain": [
       "<AxesSubplot:title={'center':'Avg salary for Male and Female'}, xlabel='Gender'>"
      ]
     },
     "execution_count": 16,
     "metadata": {},
     "output_type": "execute_result"
    },
    {
     "data": {
      "image/png": "[encoded data removed]",
      "text/plain": [
       "<Figure size 576x360 with 1 Axes>"
      ]
     },
     "metadata": {},
     "output_type": "display_data"
    }
   ],
   "source": [
    "#visualizing the above output\n",
    "\n",
    "plt.figure(figsize=(8,5))\n",
    "plt.title('Avg salary for Male and Female')\n",
    "sns.barplot(x=df.groupby('Gender')['Salary'].mean().keys(),\n",
    "             y=df.groupby('Gender')['Salary'].mean().values)"
   ]
  },
  {
   "cell_type": "code",
   "execution_count": 17,
   "id": "49877488",
   "metadata": {},
   "outputs": [
    {
     "data": {
      "text/plain": [
       "array([18, 19, 22, 21, 23, 24, 43, 44, 27, 28, 29, 30, 31, 32, 33, 34, 35,\n",
       "       36, 37, 38, 45, 39, 40, 41, 42, 46, 47, 48, 49, 50, 51, 52, 53, 54,\n",
       "       55, 56, 57, 58, 59, 60, 61, 62, 63, 64, 65, 66, 67, 68, 69, 70, 71,\n",
       "       73, 74, 75, 76, 20, 26, 25, 78, 88, 72, 80, 82, 85, 79],\n",
       "      dtype=int64)"
      ]
     },
     "execution_count": 17,
     "metadata": {},
     "output_type": "execute_result"
    }
   ],
   "source": [
    "df['Age'].unique() # checking the unique values in 'Age' column\n",
    "\n",
    "#we can see that starting num of age is 18"
   ]
  },
  {
   "cell_type": "code",
   "execution_count": 18,
   "id": "ae266e88",
   "metadata": {},
   "outputs": [
    {
     "data": {
      "text/plain": [
       "45-55           2284\n",
       "55-65           1422\n",
       "35-45            895\n",
       "65 and above     248\n",
       "25-35            112\n",
       "18-25             37\n",
       "Name: Age, dtype: int64"
      ]
     },
     "execution_count": 18,
     "metadata": {},
     "output_type": "execute_result"
    }
   ],
   "source": [
    "# dividing the age into different age-groups.\n",
    "\n",
    "age = pd.cut(df['Age'], bins=[18,25,35,45,55,65,100],\n",
    "             labels=['18-25','25-35','35-45','45-55','55-65','65 and above'])\n",
    "age.value_counts()\n",
    "\n",
    "## the age group 45-55 has the highest count "
   ]
  },
  {
   "cell_type": "code",
   "execution_count": 19,
   "id": "5b343a75",
   "metadata": {},
   "outputs": [
    {
     "data": {
      "text/plain": [
       "Age\n",
       "65 and above    113245.216754\n",
       "55-65           106625.480984\n",
       "45-55            98951.698324\n",
       "35-45            90865.898085\n",
       "25-35            80672.848520\n",
       "18-25            79727.459600\n",
       "Name: Salary, dtype: float64"
      ]
     },
     "execution_count": 19,
     "metadata": {},
     "output_type": "execute_result"
    }
   ],
   "source": [
    "#pd.crosstab(age, df['Gender'])\n",
    "df.groupby(age)['Salary'].mean().sort_values(ascending=False)"
   ]
  },
  {
   "cell_type": "markdown",
   "id": "c10710fb",
   "metadata": {},
   "source": [
    "65 and above age group has the highest avg salary"
   ]
  },
  {
   "cell_type": "code",
   "execution_count": 20,
   "id": "b93e6f3f",
   "metadata": {},
   "outputs": [
    {
     "data": {
      "text/plain": [
       "<AxesSubplot:title={'center':'Avg salary for different age groups'}, xlabel='Age'>"
      ]
     },
     "execution_count": 20,
     "metadata": {},
     "output_type": "execute_result"
    },
    {
     "data": {
      "image/png": "[encoded data removed]",
      "text/plain": [
       "<Figure size 432x288 with 1 Axes>"
      ]
     },
     "metadata": {},
     "output_type": "display_data"
    }
   ],
   "source": [
    "#ploting the above output\n",
    "\n",
    "plt.title('Avg salary for different age groups')\n",
    "sns.barplot(x=df.groupby(age)['Salary'].mean().sort_values(ascending=False).keys(),\n",
    "             y=df.groupby(age)['Salary'].mean().sort_values(ascending=False).values)"
   ]
  },
  {
   "cell_type": "code",
   "execution_count": 21,
   "id": "5d31aa1c",
   "metadata": {},
   "outputs": [
    {
     "data": {
      "text/html": [
       "<div>\n",
       "<style scoped>\n",
       "    .dataframe tbody tr th:only-of-type {\n",
       "        vertical-align: middle;\n",
       "    }\n",
       "\n",
       "    .dataframe tbody tr th {\n",
       "        vertical-align: top;\n",
       "    }\n",
       "\n",
       "    .dataframe thead th {\n",
       "        text-align: right;\n",
       "    }\n",
       "</style>\n",
       "<table border=\"1\" class=\"dataframe\">\n",
       "  <thead>\n",
       "    <tr style=\"text-align: right;\">\n",
       "      <th>Dependancies</th>\n",
       "      <th>No</th>\n",
       "      <th>Yes</th>\n",
       "    </tr>\n",
       "    <tr>\n",
       "      <th>Gender</th>\n",
       "      <th></th>\n",
       "      <th></th>\n",
       "    </tr>\n",
       "  </thead>\n",
       "  <tbody>\n",
       "    <tr>\n",
       "      <th>Female</th>\n",
       "      <td>1756</td>\n",
       "      <td>716</td>\n",
       "    </tr>\n",
       "    <tr>\n",
       "      <th>Male</th>\n",
       "      <td>1768</td>\n",
       "      <td>760</td>\n",
       "    </tr>\n",
       "  </tbody>\n",
       "</table>\n",
       "</div>"
      ],
      "text/plain": [
       "Dependancies    No  Yes\n",
       "Gender                 \n",
       "Female        1756  716\n",
       "Male          1768  760"
      ]
     },
     "execution_count": 21,
     "metadata": {},
     "output_type": "execute_result"
    }
   ],
   "source": [
    "#checking for most dependent on a person\n",
    "\n",
    "pd.crosstab(df['Gender'],df['Dependancies'])\n",
    "\n",
    "#male has the most dependent on a person"
   ]
  },
  {
   "cell_type": "code",
   "execution_count": 22,
   "id": "9ebd3537",
   "metadata": {},
   "outputs": [
    {
     "name": "stdout",
     "output_type": "stream",
     "text": [
      "Education\n",
      "PG                     106455.698134\n",
      "Graduation              91731.465271\n",
      "Intermediate             8797.040201\n",
      "High School or less      8021.192905\n",
      "Name: Salary, dtype: float64\n"
     ]
    },
    {
     "data": {
      "image/png": "[encoded data removed]",
      "text/plain": [
       "<Figure size 432x288 with 1 Axes>"
      ]
     },
     "metadata": {},
     "output_type": "display_data"
    }
   ],
   "source": [
    "#cheking for the relationship between 'Salary & Education'\n",
    "\n",
    "df_edu = df.groupby('Education')['Salary'].mean().sort_values(ascending=False)\n",
    "print(df_edu)\n",
    "df_edu.plot(kind='bar')\n",
    "plt.title('Salary vs Education');"
   ]
  },
  {
   "cell_type": "code",
   "execution_count": 23,
   "id": "82a01858",
   "metadata": {},
   "outputs": [
    {
     "name": "stderr",
     "output_type": "stream",
     "text": [
      "C:\\ProgramData\\Anaconda3\\lib\\site-packages\\seaborn\\_decorators.py:36: FutureWarning: Pass the following variable as a keyword arg: x. From version 0.12, the only valid positional argument will be `data`, and passing other arguments without an explicit keyword will result in an error or misinterpretation.\n",
      "  warnings.warn(\n"
     ]
    },
    {
     "data": {
      "image/png": "[encoded data removed]",
      "text/plain": [
       "<Figure size 432x288 with 1 Axes>"
      ]
     },
     "metadata": {},
     "output_type": "display_data"
    },
    {
     "data": {
      "text/plain": [
       "Month-to-month    2777\n",
       "Two year          1195\n",
       "One year          1028\n",
       "Name: Type, dtype: int64"
      ]
     },
     "execution_count": 23,
     "metadata": {},
     "output_type": "execute_result"
    }
   ],
   "source": [
    "#checking for which type of payment had most count\n",
    "\n",
    "sns.countplot(df['Type'])\n",
    "plt.show()\n",
    "df['Type'].value_counts()"
   ]
  },
  {
   "cell_type": "code",
   "execution_count": 24,
   "id": "74c9d325",
   "metadata": {},
   "outputs": [
    {
     "data": {
      "image/png": "[encoded data removed]",
      "text/plain": [
       "<Figure size 1008x864 with 24 Axes>"
      ]
     },
     "metadata": {},
     "output_type": "display_data"
    }
   ],
   "source": [
    "# plotting the boxplot to check the outliers\n",
    "\n",
    "df.plot(kind='box',figsize=(14,12),layout=(6,4),sharex=False,subplots=True);"
   ]
  },
  {
   "cell_type": "markdown",
   "id": "91a13fec",
   "metadata": {},
   "source": [
    "From the above plot: except unit_sales,total_sales,and months all the other has outliers"
   ]
  },
  {
   "cell_type": "code",
   "execution_count": 25,
   "id": "b1715dcb",
   "metadata": {},
   "outputs": [
    {
     "data": {
      "text/plain": [
       "30.3"
      ]
     },
     "execution_count": 25,
     "metadata": {},
     "output_type": "execute_result"
    }
   ],
   "source": [
    "df.isnull().sum().sum()/len(df)*100 #percentage of null values"
   ]
  },
  {
   "cell_type": "code",
   "execution_count": 26,
   "id": "ca857f90",
   "metadata": {},
   "outputs": [],
   "source": [
    "df1 = df.copy() #copying it into the df1"
   ]
  },
  {
   "cell_type": "code",
   "execution_count": 27,
   "id": "9ef5e77e",
   "metadata": {},
   "outputs": [
    {
     "data": {
      "image/png": "[encoded data removed]",
      "text/plain": [
       "<Figure size 1008x864 with 24 Axes>"
      ]
     },
     "metadata": {},
     "output_type": "display_data"
    }
   ],
   "source": [
    "df1.plot(kind='box',figsize=(14,12),layout=(6,4),sharex=False,subplots=True);"
   ]
  },
  {
   "cell_type": "code",
   "execution_count": 28,
   "id": "384cd64b",
   "metadata": {},
   "outputs": [],
   "source": [
    "#the numerical columns which has outliers storing it into the df1_num.\n",
    "\n",
    "df1_num =['Age', 'Salary','Base_pay','Bonus','Unit_Price','Volume','openingbalance',\n",
    "          'closingbalance','low','Unit_Sales','Total_Sales','Months']"
   ]
  },
  {
   "cell_type": "code",
   "execution_count": 29,
   "id": "4b1ac56f",
   "metadata": {},
   "outputs": [],
   "source": [
    "#for capping the outliers.\n",
    "\n",
    "def df_iqr(df,cols):\n",
    "    for col in cols:\n",
    "        Q1 = df[col].quantile(0.25)\n",
    "        Q3 = df[col].quantile(0.75)\n",
    "        IQR = Q3 - Q1\n",
    "        whisker_width = 1.5\n",
    "        upper_whisker = Q3 +(whisker_width*IQR)\n",
    "        lower_whisker = Q1 -(whisker_width*IQR) \n",
    "        df[col]=np.where(df[col]>upper_whisker,upper_whisker,np.where(df[col]<lower_whisker,lower_whisker,df[col]))"
   ]
  },
  {
   "cell_type": "code",
   "execution_count": 30,
   "id": "85430d7a",
   "metadata": {},
   "outputs": [],
   "source": [
    "df_iqr(df1,df1_num)"
   ]
  },
  {
   "cell_type": "code",
   "execution_count": 31,
   "id": "f8cc5028",
   "metadata": {},
   "outputs": [
    {
     "data": {
      "image/png": "[encoded data removed]",
      "text/plain": [
       "<Figure size 1008x864 with 24 Axes>"
      ]
     },
     "metadata": {},
     "output_type": "display_data"
    }
   ],
   "source": [
    "# checking for the outliers after the capping.\n",
    "\n",
    "df1.plot(kind='box',figsize=(14,12),layout=(6,4),sharex=False,subplots=True);"
   ]
  },
  {
   "cell_type": "code",
   "execution_count": 32,
   "id": "2c831e05",
   "metadata": {},
   "outputs": [],
   "source": [
    "## filling the missing values with median\n",
    "\n",
    "df1['Base_pay'].fillna(value=df1['Base_pay'].median(),inplace = True)\n",
    "df1['openingbalance'].fillna(value=df1['openingbalance'].median(),inplace = True)\n",
    "\n",
    "df1['Total_Sales'].fillna(value=df1['Total_Sales'].median(),inplace = True)"
   ]
  },
  {
   "cell_type": "code",
   "execution_count": 33,
   "id": "c0b2aae6",
   "metadata": {},
   "outputs": [],
   "source": [
    "##checking the value_counts of all the columns\n",
    "\n",
    "#for c in df.columns:\n",
    " #print (\"---- %s ---\" % c)\n",
    "  #print (df1[c].value_counts())"
   ]
  },
  {
   "cell_type": "code",
   "execution_count": 34,
   "id": "a6befb24",
   "metadata": {},
   "outputs": [],
   "source": [
    "#cat_features"
   ]
  },
  {
   "cell_type": "markdown",
   "id": "a61c1725",
   "metadata": {},
   "source": [
    "MAPPING THE CATEGORICAL FEATURES INTO NUMERICAL\n",
    "\n",
    "SO THAT IT IS EASY TO UNDERSTAND FOR THE MACHINE,IT HELPS TO BUILD THE MACHINE LARNING MODEL AND EASY TO PREDICT THE VALUES"
   ]
  },
  {
   "cell_type": "code",
   "execution_count": 35,
   "id": "09f91fad",
   "metadata": {},
   "outputs": [],
   "source": [
    "#gender\n",
    "df1['Gender'] = df['Gender'].map({'Male': 0, 'Female': 1}).astype(int)"
   ]
  },
  {
   "cell_type": "code",
   "execution_count": 36,
   "id": "df2d3c48",
   "metadata": {},
   "outputs": [],
   "source": [
    "#Dependancies\n",
    "df1['Dependancies'] = df1['Dependancies'].map({'No': 0, 'Yes': 1}).astype(int)"
   ]
  },
  {
   "cell_type": "code",
   "execution_count": 37,
   "id": "826de71b",
   "metadata": {},
   "outputs": [],
   "source": [
    "#Calls\n",
    "df1['Calls'] = df1['Calls'].map({'No': 0, 'Yes': 1}).astype(int)"
   ]
  },
  {
   "cell_type": "code",
   "execution_count": 38,
   "id": "825423d3",
   "metadata": {},
   "outputs": [],
   "source": [
    "#Type\n",
    "df1['Type'] = df1['Type'].map({'Month-to-month': 2, 'Two year': 1,'One year': 0}).astype(int)"
   ]
  },
  {
   "cell_type": "code",
   "execution_count": 39,
   "id": "4b71b5a3",
   "metadata": {},
   "outputs": [],
   "source": [
    "#Billing\n",
    "df1['Billing'] = df1['Billing'].map({'No': 0, 'Yes': 1}).astype(int)"
   ]
  },
  {
   "cell_type": "code",
   "execution_count": 40,
   "id": "219b2cfc",
   "metadata": {},
   "outputs": [],
   "source": [
    "#Rating\n",
    "df1['Rating'] = df1['Rating'].map({'No': 0, 'Yes': 1}).astype(int)"
   ]
  },
  {
   "cell_type": "code",
   "execution_count": 41,
   "id": "b6365d88",
   "metadata": {},
   "outputs": [],
   "source": [
    "#Education\n",
    "df1['Education'] = df1['Education'].map({'High School or less': 0, 'Intermediate': 1,'Graduation': 2,\n",
    "                                         'PG':3}).astype(int)"
   ]
  },
  {
   "cell_type": "code",
   "execution_count": 42,
   "id": "4929fb67",
   "metadata": {},
   "outputs": [
    {
     "data": {
      "text/html": [
       "<div>\n",
       "<style scoped>\n",
       "    .dataframe tbody tr th:only-of-type {\n",
       "        vertical-align: middle;\n",
       "    }\n",
       "\n",
       "    .dataframe tbody tr th {\n",
       "        vertical-align: top;\n",
       "    }\n",
       "\n",
       "    .dataframe thead th {\n",
       "        text-align: right;\n",
       "    }\n",
       "</style>\n",
       "<table border=\"1\" class=\"dataframe\">\n",
       "  <thead>\n",
       "    <tr style=\"text-align: right;\">\n",
       "      <th></th>\n",
       "      <th>Gender</th>\n",
       "      <th>Business</th>\n",
       "      <th>Dependancies</th>\n",
       "      <th>Calls</th>\n",
       "      <th>Type</th>\n",
       "      <th>Billing</th>\n",
       "      <th>Rating</th>\n",
       "      <th>Age</th>\n",
       "      <th>Salary</th>\n",
       "      <th>Base_pay</th>\n",
       "      <th>Bonus</th>\n",
       "      <th>Unit_Price</th>\n",
       "      <th>Volume</th>\n",
       "      <th>openingbalance</th>\n",
       "      <th>closingbalance</th>\n",
       "      <th>low</th>\n",
       "      <th>Unit_Sales</th>\n",
       "      <th>Total_Sales</th>\n",
       "      <th>Months</th>\n",
       "      <th>Education</th>\n",
       "    </tr>\n",
       "  </thead>\n",
       "  <tbody>\n",
       "    <tr>\n",
       "      <th>0</th>\n",
       "      <td>1</td>\n",
       "      <td>0</td>\n",
       "      <td>0</td>\n",
       "      <td>1</td>\n",
       "      <td>2</td>\n",
       "      <td>0</td>\n",
       "      <td>1</td>\n",
       "      <td>32.0</td>\n",
       "      <td>34357.708738</td>\n",
       "      <td>14113.032435</td>\n",
       "      <td>1717.885438</td>\n",
       "      <td>3.77</td>\n",
       "      <td>13691975.0</td>\n",
       "      <td>3.75</td>\n",
       "      <td>3.76</td>\n",
       "      <td>3.65</td>\n",
       "      <td>18.25</td>\n",
       "      <td>18.80</td>\n",
       "      <td>0.0</td>\n",
       "      <td>0</td>\n",
       "    </tr>\n",
       "    <tr>\n",
       "      <th>1</th>\n",
       "      <td>1</td>\n",
       "      <td>0</td>\n",
       "      <td>0</td>\n",
       "      <td>1</td>\n",
       "      <td>2</td>\n",
       "      <td>0</td>\n",
       "      <td>1</td>\n",
       "      <td>32.0</td>\n",
       "      <td>34357.708738</td>\n",
       "      <td>14113.032435</td>\n",
       "      <td>1717.885438</td>\n",
       "      <td>3.74</td>\n",
       "      <td>10462800.0</td>\n",
       "      <td>3.85</td>\n",
       "      <td>3.68</td>\n",
       "      <td>3.65</td>\n",
       "      <td>18.40</td>\n",
       "      <td>18.85</td>\n",
       "      <td>0.0</td>\n",
       "      <td>0</td>\n",
       "    </tr>\n",
       "    <tr>\n",
       "      <th>2</th>\n",
       "      <td>0</td>\n",
       "      <td>0</td>\n",
       "      <td>0</td>\n",
       "      <td>1</td>\n",
       "      <td>2</td>\n",
       "      <td>1</td>\n",
       "      <td>0</td>\n",
       "      <td>32.0</td>\n",
       "      <td>34357.708738</td>\n",
       "      <td>14113.032435</td>\n",
       "      <td>1717.885438</td>\n",
       "      <td>3.89</td>\n",
       "      <td>13691975.0</td>\n",
       "      <td>4.23</td>\n",
       "      <td>4.29</td>\n",
       "      <td>3.72</td>\n",
       "      <td>18.70</td>\n",
       "      <td>18.90</td>\n",
       "      <td>0.0</td>\n",
       "      <td>0</td>\n",
       "    </tr>\n",
       "    <tr>\n",
       "      <th>3</th>\n",
       "      <td>1</td>\n",
       "      <td>1</td>\n",
       "      <td>0</td>\n",
       "      <td>1</td>\n",
       "      <td>2</td>\n",
       "      <td>1</td>\n",
       "      <td>1</td>\n",
       "      <td>32.0</td>\n",
       "      <td>34357.708738</td>\n",
       "      <td>14113.032435</td>\n",
       "      <td>1717.885438</td>\n",
       "      <td>4.35</td>\n",
       "      <td>13691975.0</td>\n",
       "      <td>4.26</td>\n",
       "      <td>4.31</td>\n",
       "      <td>3.83</td>\n",
       "      <td>18.75</td>\n",
       "      <td>19.00</td>\n",
       "      <td>0.0</td>\n",
       "      <td>0</td>\n",
       "    </tr>\n",
       "    <tr>\n",
       "      <th>4</th>\n",
       "      <td>0</td>\n",
       "      <td>0</td>\n",
       "      <td>0</td>\n",
       "      <td>1</td>\n",
       "      <td>2</td>\n",
       "      <td>1</td>\n",
       "      <td>1</td>\n",
       "      <td>32.0</td>\n",
       "      <td>34357.708738</td>\n",
       "      <td>14113.032435</td>\n",
       "      <td>1717.885438</td>\n",
       "      <td>4.34</td>\n",
       "      <td>13691975.0</td>\n",
       "      <td>4.79</td>\n",
       "      <td>4.41</td>\n",
       "      <td>4.08</td>\n",
       "      <td>18.80</td>\n",
       "      <td>19.05</td>\n",
       "      <td>1.0</td>\n",
       "      <td>0</td>\n",
       "    </tr>\n",
       "  </tbody>\n",
       "</table>\n",
       "</div>"
      ],
      "text/plain": [
       "   Gender  Business  Dependancies  Calls  Type  Billing  Rating   Age  \\\n",
       "0       1         0             0      1     2        0       1  32.0   \n",
       "1       1         0             0      1     2        0       1  32.0   \n",
       "2       0         0             0      1     2        1       0  32.0   \n",
       "3       1         1             0      1     2        1       1  32.0   \n",
       "4       0         0             0      1     2        1       1  32.0   \n",
       "\n",
       "         Salary      Base_pay        Bonus  Unit_Price      Volume  \\\n",
       "0  34357.708738  14113.032435  1717.885438        3.77  13691975.0   \n",
       "1  34357.708738  14113.032435  1717.885438        3.74  10462800.0   \n",
       "2  34357.708738  14113.032435  1717.885438        3.89  13691975.0   \n",
       "3  34357.708738  14113.032435  1717.885438        4.35  13691975.0   \n",
       "4  34357.708738  14113.032435  1717.885438        4.34  13691975.0   \n",
       "\n",
       "   openingbalance  closingbalance   low  Unit_Sales  Total_Sales  Months  \\\n",
       "0            3.75            3.76  3.65       18.25        18.80     0.0   \n",
       "1            3.85            3.68  3.65       18.40        18.85     0.0   \n",
       "2            4.23            4.29  3.72       18.70        18.90     0.0   \n",
       "3            4.26            4.31  3.83       18.75        19.00     0.0   \n",
       "4            4.79            4.41  4.08       18.80        19.05     1.0   \n",
       "\n",
       "   Education  \n",
       "0          0  \n",
       "1          0  \n",
       "2          0  \n",
       "3          0  \n",
       "4          0  "
      ]
     },
     "execution_count": 42,
     "metadata": {},
     "output_type": "execute_result"
    }
   ],
   "source": [
    "df1.head()"
   ]
  },
  {
   "cell_type": "code",
   "execution_count": 43,
   "id": "43501ee6",
   "metadata": {},
   "outputs": [],
   "source": [
    "## Checking for the correlation using 'variance_inflation_factor'(VIF)."
   ]
  },
  {
   "cell_type": "code",
   "execution_count": 44,
   "id": "ddf2d3cd",
   "metadata": {},
   "outputs": [],
   "source": [
    "from statsmodels.stats.outliers_influence import variance_inflation_factor\n",
    "\n",
    "def calc_vif(X):\n",
    "\n",
    "    # Calculating VIF\n",
    "    vif = pd.DataFrame()\n",
    "    vif[\"variables\"] = X.columns\n",
    "    vif[\"VIF\"] = [variance_inflation_factor(X.values, i) for i in range(X.shape[1])]\n",
    "\n",
    "    return(vif)"
   ]
  },
  {
   "cell_type": "code",
   "execution_count": 45,
   "id": "fdd02d15",
   "metadata": {},
   "outputs": [
    {
     "name": "stderr",
     "output_type": "stream",
     "text": [
      "C:\\ProgramData\\Anaconda3\\lib\\site-packages\\statsmodels\\stats\\outliers_influence.py:193: RuntimeWarning: divide by zero encountered in double_scalars\n",
      "  vif = 1. / (1. - r_squared_i)\n"
     ]
    },
    {
     "data": {
      "text/html": [
       "<div>\n",
       "<style scoped>\n",
       "    .dataframe tbody tr th:only-of-type {\n",
       "        vertical-align: middle;\n",
       "    }\n",
       "\n",
       "    .dataframe tbody tr th {\n",
       "        vertical-align: top;\n",
       "    }\n",
       "\n",
       "    .dataframe thead th {\n",
       "        text-align: right;\n",
       "    }\n",
       "</style>\n",
       "<table border=\"1\" class=\"dataframe\">\n",
       "  <thead>\n",
       "    <tr style=\"text-align: right;\">\n",
       "      <th></th>\n",
       "      <th>variables</th>\n",
       "      <th>VIF</th>\n",
       "    </tr>\n",
       "  </thead>\n",
       "  <tbody>\n",
       "    <tr>\n",
       "      <th>0</th>\n",
       "      <td>Gender</td>\n",
       "      <td>1.964130</td>\n",
       "    </tr>\n",
       "    <tr>\n",
       "      <th>1</th>\n",
       "      <td>Business</td>\n",
       "      <td>1.279965</td>\n",
       "    </tr>\n",
       "    <tr>\n",
       "      <th>2</th>\n",
       "      <td>Dependancies</td>\n",
       "      <td>1.526193</td>\n",
       "    </tr>\n",
       "    <tr>\n",
       "      <th>3</th>\n",
       "      <td>Calls</td>\n",
       "      <td>10.287785</td>\n",
       "    </tr>\n",
       "    <tr>\n",
       "      <th>4</th>\n",
       "      <td>Type</td>\n",
       "      <td>4.376043</td>\n",
       "    </tr>\n",
       "    <tr>\n",
       "      <th>5</th>\n",
       "      <td>Billing</td>\n",
       "      <td>2.597342</td>\n",
       "    </tr>\n",
       "    <tr>\n",
       "      <th>6</th>\n",
       "      <td>Rating</td>\n",
       "      <td>1.604810</td>\n",
       "    </tr>\n",
       "    <tr>\n",
       "      <th>7</th>\n",
       "      <td>Age</td>\n",
       "      <td>50.279246</td>\n",
       "    </tr>\n",
       "    <tr>\n",
       "      <th>8</th>\n",
       "      <td>Salary</td>\n",
       "      <td>inf</td>\n",
       "    </tr>\n",
       "    <tr>\n",
       "      <th>9</th>\n",
       "      <td>Base_pay</td>\n",
       "      <td>924.345125</td>\n",
       "    </tr>\n",
       "    <tr>\n",
       "      <th>10</th>\n",
       "      <td>Bonus</td>\n",
       "      <td>inf</td>\n",
       "    </tr>\n",
       "    <tr>\n",
       "      <th>11</th>\n",
       "      <td>Unit_Price</td>\n",
       "      <td>14.200579</td>\n",
       "    </tr>\n",
       "    <tr>\n",
       "      <th>12</th>\n",
       "      <td>Volume</td>\n",
       "      <td>2.436751</td>\n",
       "    </tr>\n",
       "    <tr>\n",
       "      <th>13</th>\n",
       "      <td>openingbalance</td>\n",
       "      <td>5.142162</td>\n",
       "    </tr>\n",
       "    <tr>\n",
       "      <th>14</th>\n",
       "      <td>closingbalance</td>\n",
       "      <td>5.209884</td>\n",
       "    </tr>\n",
       "    <tr>\n",
       "      <th>15</th>\n",
       "      <td>low</td>\n",
       "      <td>171.075049</td>\n",
       "    </tr>\n",
       "    <tr>\n",
       "      <th>16</th>\n",
       "      <td>Unit_Sales</td>\n",
       "      <td>122.617962</td>\n",
       "    </tr>\n",
       "    <tr>\n",
       "      <th>17</th>\n",
       "      <td>Total_Sales</td>\n",
       "      <td>65.798879</td>\n",
       "    </tr>\n",
       "    <tr>\n",
       "      <th>18</th>\n",
       "      <td>Months</td>\n",
       "      <td>9.204876</td>\n",
       "    </tr>\n",
       "    <tr>\n",
       "      <th>19</th>\n",
       "      <td>Education</td>\n",
       "      <td>29.667436</td>\n",
       "    </tr>\n",
       "  </tbody>\n",
       "</table>\n",
       "</div>"
      ],
      "text/plain": [
       "         variables         VIF\n",
       "0           Gender    1.964130\n",
       "1         Business    1.279965\n",
       "2     Dependancies    1.526193\n",
       "3            Calls   10.287785\n",
       "4             Type    4.376043\n",
       "5          Billing    2.597342\n",
       "6           Rating    1.604810\n",
       "7              Age   50.279246\n",
       "8           Salary         inf\n",
       "9         Base_pay  924.345125\n",
       "10           Bonus         inf\n",
       "11      Unit_Price   14.200579\n",
       "12          Volume    2.436751\n",
       "13  openingbalance    5.142162\n",
       "14  closingbalance    5.209884\n",
       "15             low  171.075049\n",
       "16      Unit_Sales  122.617962\n",
       "17     Total_Sales   65.798879\n",
       "18          Months    9.204876\n",
       "19       Education   29.667436"
      ]
     },
     "execution_count": 45,
     "metadata": {},
     "output_type": "execute_result"
    }
   ],
   "source": [
    "X = df1\n",
    "calc_vif(X)"
   ]
  },
  {
   "cell_type": "markdown",
   "id": "8791b79a",
   "metadata": {},
   "source": [
    "# Train-Test Splitting"
   ]
  },
  {
   "cell_type": "code",
   "execution_count": 46,
   "id": "16471d8a",
   "metadata": {},
   "outputs": [],
   "source": [
    "# droping the independent variables which is not related to the X\n",
    "x = df1.drop(['Salary','Unit_Sales','low','Unit_Price','Bonus','Base_pay','Age'],axis = 1)\n",
    "y = df1['Salary']"
   ]
  },
  {
   "cell_type": "code",
   "execution_count": 47,
   "id": "15374595",
   "metadata": {},
   "outputs": [
    {
     "name": "stdout",
     "output_type": "stream",
     "text": [
      "x_train: (3500, 13)\n",
      "x_test: (1500, 13)\n",
      "y_train: (3500,)\n",
      "y_test: (1500,)\n"
     ]
    }
   ],
   "source": [
    "from sklearn.model_selection import train_test_split\n",
    "from sklearn.model_selection import cross_validate\n",
    "x_train, x_test, y_train, y_test = train_test_split(x,y, test_size=0.3, random_state=42)\n",
    "\n",
    "print('x_train:',x_train.shape)\n",
    "print('x_test:',x_test.shape)\n",
    "print('y_train:',y_train.shape)\n",
    "print('y_test:',y_test.shape)"
   ]
  },
  {
   "cell_type": "markdown",
   "id": "a89031c5",
   "metadata": {},
   "source": [
    "# Selecting and Evaluating the model"
   ]
  },
  {
   "cell_type": "code",
   "execution_count": 48,
   "id": "d818ee83",
   "metadata": {},
   "outputs": [
    {
     "data": {
      "text/plain": [
       "LinearRegression()"
      ]
     },
     "execution_count": 48,
     "metadata": {},
     "output_type": "execute_result"
    }
   ],
   "source": [
    "from sklearn.linear_model import LinearRegression\n",
    "from sklearn.metrics import accuracy_score\n",
    "\n",
    "lr = LinearRegression()\n",
    "lr.fit(x_train,y_train)"
   ]
  },
  {
   "cell_type": "code",
   "execution_count": 49,
   "id": "3243fb6c",
   "metadata": {},
   "outputs": [
    {
     "name": "stdout",
     "output_type": "stream",
     "text": [
      "Acc on training data 0.8433296493082775\n",
      "Acc on test data: 0.825\n"
     ]
    }
   ],
   "source": [
    "## checking the accuracy of the train and test data\n",
    "\n",
    "y_pred = lr.predict(x_test)\n",
    "\n",
    "#print(\"Acc on training data: {:,.3f}\".format(lr.score(x_train, y_train)))\n",
    "print(\"Acc on training data\",lr.score(x_train, y_train))\n",
    "print(\"Acc on test data: {:,.3f}\".format(lr.score(x_test, y_test)))"
   ]
  },
  {
   "cell_type": "code",
   "execution_count": 50,
   "id": "85a5bf5f",
   "metadata": {},
   "outputs": [],
   "source": [
    "from sklearn import metrics\n",
    "\n",
    "LinReg = lr.score(x_test, y_test)\n",
    "  \n",
    "mae_lr = round(metrics.mean_absolute_error(y_test, y_pred), 4)\n",
    "mse_lr = round(metrics.mean_squared_error(y_test, y_pred), 4)\n",
    "rmse_lr = np.sqrt(metrics.mean_squared_error(y_test, y_pred))"
   ]
  },
  {
   "cell_type": "code",
   "execution_count": 52,
   "id": "6fa5d4e6",
   "metadata": {},
   "outputs": [
    {
     "data": {
      "text/html": [
       "<div>\n",
       "<style scoped>\n",
       "    .dataframe tbody tr th:only-of-type {\n",
       "        vertical-align: middle;\n",
       "    }\n",
       "\n",
       "    .dataframe tbody tr th {\n",
       "        vertical-align: top;\n",
       "    }\n",
       "\n",
       "    .dataframe thead th {\n",
       "        text-align: right;\n",
       "    }\n",
       "</style>\n",
       "<table border=\"1\" class=\"dataframe\">\n",
       "  <thead>\n",
       "    <tr style=\"text-align: right;\">\n",
       "      <th></th>\n",
       "      <th>Model</th>\n",
       "      <th>Score</th>\n",
       "      <th>MAE</th>\n",
       "      <th>MSE</th>\n",
       "      <th>rmse</th>\n",
       "    </tr>\n",
       "  </thead>\n",
       "  <tbody>\n",
       "    <tr>\n",
       "      <th>0</th>\n",
       "      <td>LinReg</td>\n",
       "      <td>0.824951</td>\n",
       "      <td>7457.2567</td>\n",
       "      <td>1.089279e+08</td>\n",
       "      <td>10436.852778</td>\n",
       "    </tr>\n",
       "  </tbody>\n",
       "</table>\n",
       "</div>"
      ],
      "text/plain": [
       "    Model     Score        MAE           MSE          rmse\n",
       "0  LinReg  0.824951  7457.2567  1.089279e+08  10436.852778"
      ]
     },
     "execution_count": 52,
     "metadata": {},
     "output_type": "execute_result"
    }
   ],
   "source": [
    "models = pd.DataFrame(\n",
    "    {  'Model' : ['LinReg'],\n",
    "       'Score' : [LinReg],\n",
    "        'MAE'  : [mae_lr],\n",
    "        'MSE'  : [mse_lr],\n",
    "        'rmse' : [rmse_lr]\n",
    "    })\n",
    "  \n",
    "models"
   ]
  },
  {
   "cell_type": "code",
   "execution_count": null,
   "id": "e028b77b",
   "metadata": {},
   "outputs": [],
   "source": []
  },
  {
   "cell_type": "code",
   "execution_count": null,
   "id": "f36d85bf",
   "metadata": {},
   "outputs": [],
   "source": []
  },
  {
   "cell_type": "code",
   "execution_count": null,
   "id": "dfb33df2",
   "metadata": {},
   "outputs": [],
   "source": []
  },
  {
   "cell_type": "code",
   "execution_count": null,
   "id": "63936ffa",
   "metadata": {},
   "outputs": [],
   "source": []
  },
  {
   "cell_type": "code",
   "execution_count": null,
   "id": "87b669f1",
   "metadata": {},
   "outputs": [],
   "source": []
  },
  {
   "cell_type": "code",
   "execution_count": null,
   "id": "059164f1",
   "metadata": {},
   "outputs": [],
   "source": []
  }
 ],
 "metadata": {
  "kernelspec": {
   "display_name": "Python 3",
   "language": "python",
   "name": "python3"
  },
  "language_info": {
   "codemirror_mode": {
    "name": "ipython",
    "version": 3
   },
   "file_extension": ".py",
   "mimetype": "text/x-python",
   "name": "python",
   "nbconvert_exporter": "python",
   "pygments_lexer": "ipython3",
   "version": "3.8.8"
  }
 },
 "nbformat": 4,
 "nbformat_minor": 5
}
